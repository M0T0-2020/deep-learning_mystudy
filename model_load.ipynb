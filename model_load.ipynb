{
 "cells": [
  {
   "cell_type": "code",
   "execution_count": 1,
   "metadata": {},
   "outputs": [],
   "source": [
    "import torch\n",
    "import torchvision.models as models\n",
    "import pretrainedmodels"
   ]
  },
  {
   "cell_type": "code",
   "execution_count": 2,
   "metadata": {},
   "outputs": [],
   "source": [
    "#model = models.resnet101(pretrained=True)"
   ]
  },
  {
   "cell_type": "code",
   "execution_count": 3,
   "metadata": {},
   "outputs": [],
   "source": [
    "#torch.save(model.state_dict(), 'resnet101.pt')"
   ]
  },
  {
   "cell_type": "code",
   "execution_count": 4,
   "metadata": {},
   "outputs": [],
   "source": [
    "#model = models.inception_v3(pretrained=True)"
   ]
  },
  {
   "cell_type": "code",
   "execution_count": 5,
   "metadata": {},
   "outputs": [],
   "source": [
    "#torch.save(model.state_dict(), 'inception_v3.pt')"
   ]
  },
  {
   "cell_type": "code",
   "execution_count": 6,
   "metadata": {},
   "outputs": [],
   "source": [
    "#model = models.vgg16(pretrained=True)"
   ]
  },
  {
   "cell_type": "code",
   "execution_count": 7,
   "metadata": {},
   "outputs": [
    {
     "name": "stderr",
     "output_type": "stream",
     "text": [
      "Downloading: \"https://download.pytorch.org/models/resnet34-333f7ec4.pth\" to /Users/kanoumotoharu/.torch/models/resnet34-333f7ec4.pth\n",
      "87306240it [00:14, 6100416.56it/s]\n"
     ]
    }
   ],
   "source": [
    "#model = models.resnet34(pretrained=True)"
   ]
  },
  {
   "cell_type": "code",
   "execution_count": 8,
   "metadata": {},
   "outputs": [],
   "source": [
    "#torch.save(model.state_dict(), 'resnet34.pt')"
   ]
  },
  {
   "cell_type": "code",
   "execution_count": 9,
   "metadata": {},
   "outputs": [
    {
     "name": "stderr",
     "output_type": "stream",
     "text": [
      "Downloading: \"https://download.pytorch.org/models/vgg13-c768596a.pth\" to /Users/kanoumotoharu/.torch/models/vgg13-c768596a.pth\n",
      "532194478it [01:09, 7686284.16it/s] \n"
     ]
    }
   ],
   "source": [
    "#model = models.vgg13(pretrained=True)"
   ]
  },
  {
   "cell_type": "code",
   "execution_count": 10,
   "metadata": {},
   "outputs": [],
   "source": [
    "#torch.save(model.state_dict(), 'vgg13.pt')"
   ]
  },
  {
   "cell_type": "code",
   "execution_count": 11,
   "metadata": {},
   "outputs": [
    {
     "name": "stderr",
     "output_type": "stream",
     "text": [
      "Downloading: \"https://download.pytorch.org/models/resnet50-19c8e357.pth\" to /Users/kanoumotoharu/.torch/models/resnet50-19c8e357.pth\n",
      "102502400it [00:27, 3663076.75it/s]\n"
     ]
    }
   ],
   "source": [
    "#model = models.resnet50(pretrained=True)"
   ]
  },
  {
   "cell_type": "code",
   "execution_count": 12,
   "metadata": {},
   "outputs": [],
   "source": [
    "#torch.save(model.state_dict(), 'resnet50.pt')"
   ]
  },
  {
   "cell_type": "code",
   "execution_count": 13,
   "metadata": {},
   "outputs": [
    {
     "name": "stderr",
     "output_type": "stream",
     "text": [
      "Downloading: \"https://download.pytorch.org/models/resnet18-5c106cde.pth\" to /Users/kanoumotoharu/.torch/models/resnet18-5c106cde.pth\n",
      "46827520it [00:08, 5653125.75it/s]\n"
     ]
    }
   ],
   "source": [
    "#model = models.resnet18(pretrained=True)\n",
    "#torch.save(model.state_dict(), 'resnet18.pt')"
   ]
  },
  {
   "cell_type": "code",
   "execution_count": null,
   "metadata": {},
   "outputs": [],
   "source": [
    "#model = models.(pretrained=True)\n",
    "#torch.save(model.state_dict(), 'resnet18.pt')"
   ]
  },
  {
   "cell_type": "code",
   "execution_count": null,
   "metadata": {},
   "outputs": [
    {
     "name": "stderr",
     "output_type": "stream",
     "text": [
      "Downloading: \"http://data.lip6.fr/cadene/pretrainedmodels/se_resnet50-ce0d4300.pth\" to /Users/kanoumotoharu/.cache/torch/checkpoints/se_resnet50-ce0d4300.pth\n",
      " 12%|█▏        | 12976128/112611220 [00:37<04:40, 355461.53it/s]"
     ]
    }
   ],
   "source": [
    "#model = pretrainedmodels.se_resnet50()\n",
    "#torch.save(model.state_dict(), 'se_resnet50.pt')"
   ]
  },
  {
   "cell_type": "code",
   "execution_count": 3,
   "metadata": {},
   "outputs": [
    {
     "name": "stderr",
     "output_type": "stream",
     "text": [
      "Downloading: \"https://download.pytorch.org/models/densenet161-8d451a50.pth\" to /Users/kanoumotoharu/.cache/torch/checkpoints/densenet161-8d451a50.pth\n",
      "100%|██████████| 115730790/115730790 [02:40<00:00, 721606.31it/s]\n"
     ]
    }
   ],
   "source": [
    "#model = models.densenet161(pretrained=True)\n",
    "#torch.save(model.state_dict(), 'densenet161.pt')"
   ]
  },
  {
   "cell_type": "code",
   "execution_count": 4,
   "metadata": {},
   "outputs": [
    {
     "name": "stderr",
     "output_type": "stream",
     "text": [
      "Downloading: \"https://download.pytorch.org/models/densenet201-c1103571.pth\" to /Users/kanoumotoharu/.cache/torch/checkpoints/densenet201-c1103571.pth\n",
      "100%|██████████| 81131730/81131730 [01:29<00:00, 911579.66it/s] \n"
     ]
    }
   ],
   "source": [
    "#model = models.densenet201(pretrained=True)\n",
    "#torch.save(model.state_dict(), 'densenet201.pt')"
   ]
  },
  {
   "cell_type": "code",
   "execution_count": 6,
   "metadata": {},
   "outputs": [
    {
     "name": "stderr",
     "output_type": "stream",
     "text": [
      "Downloading: \"http://data.lip6.fr/cadene/pretrainedmodels/resnext101_32x4d-29e315fa.pth\" to /Users/kanoumotoharu/.cache/torch/checkpoints/resnext101_32x4d-29e315fa.pth\n",
      "100%|██████████| 177332805/177332805 [08:19<00:00, 354950.89it/s]\n"
     ]
    }
   ],
   "source": [
    "model = pretrainedmodels.resnext101_32x4d()\n",
    "torch.save(model.state_dict(), 'resnext50_32x4d.pt')"
   ]
  },
  {
   "cell_type": "code",
   "execution_count": 7,
   "metadata": {},
   "outputs": [
    {
     "ename": "AttributeError",
     "evalue": "module 'torchvision.models' has no attribute 'resnext50_32x4d'",
     "output_type": "error",
     "traceback": [
      "\u001b[0;31m---------------------------------------------------------------------------\u001b[0m",
      "\u001b[0;31mAttributeError\u001b[0m                            Traceback (most recent call last)",
      "\u001b[0;32m<ipython-input-7-7f527939a9a7>\u001b[0m in \u001b[0;36m<module>\u001b[0;34m\u001b[0m\n\u001b[0;32m----> 1\u001b[0;31m \u001b[0mmodel\u001b[0m \u001b[0;34m=\u001b[0m \u001b[0mmodels\u001b[0m\u001b[0;34m.\u001b[0m\u001b[0mresnext50_32x4d\u001b[0m\u001b[0;34m(\u001b[0m\u001b[0;34m)\u001b[0m\u001b[0;34m\u001b[0m\u001b[0m\n\u001b[0m\u001b[1;32m      2\u001b[0m \u001b[0mtorch\u001b[0m\u001b[0;34m.\u001b[0m\u001b[0msave\u001b[0m\u001b[0;34m(\u001b[0m\u001b[0mmodel\u001b[0m\u001b[0;34m.\u001b[0m\u001b[0mstate_dict\u001b[0m\u001b[0;34m(\u001b[0m\u001b[0;34m)\u001b[0m\u001b[0;34m,\u001b[0m \u001b[0;34m'resnext50_32x4d.pt'\u001b[0m\u001b[0;34m)\u001b[0m\u001b[0;34m\u001b[0m\u001b[0m\n",
      "\u001b[0;31mAttributeError\u001b[0m: module 'torchvision.models' has no attribute 'resnext50_32x4d'"
     ]
    }
   ],
   "source": [
    "model = pretrainedmodels.re()\n",
    "torch.save(model.state_dict(), 'resnext50_32x4d.pt')"
   ]
  },
  {
   "cell_type": "code",
   "execution_count": null,
   "metadata": {},
   "outputs": [],
   "source": []
  }
 ],
 "metadata": {
  "kernelspec": {
   "display_name": "Python 3",
   "language": "python",
   "name": "python3"
  },
  "language_info": {
   "codemirror_mode": {
    "name": "ipython",
    "version": 3
   },
   "file_extension": ".py",
   "mimetype": "text/x-python",
   "name": "python",
   "nbconvert_exporter": "python",
   "pygments_lexer": "ipython3",
   "version": "3.6.5"
  }
 },
 "nbformat": 4,
 "nbformat_minor": 2
}
